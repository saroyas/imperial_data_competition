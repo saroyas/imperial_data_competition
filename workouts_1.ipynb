{
 "cells": [
  {
   "cell_type": "code",
   "execution_count": 1,
   "metadata": {
    "collapsed": true,
    "pycharm": {
     "is_executing": false
    }
   },
   "outputs": [],
   "source": [
    "import numpy as np\n",
    "import sklearn as sk\n",
    "from tensorflow import keras\n",
    "import pandas as pd\n",
    "import scipy\n",
    "import tensorflow as tf\n",
    "\n",
    "import pandas as pd\n",
    "from sklearn import preprocessing\n"
   ]
  },
  {
   "cell_type": "code",
   "execution_count": 15,
   "outputs": [],
   "source": [
    "#load data\n",
    "'''\n",
    "x_data_uf = pd.read_csv('x_train.csv', sep = ',')\n",
    "y_data = pd.read_csv('y_train.csv', sep = ',')\n",
    "x_data_uf = x_data_uf.iloc[:,1:]\n",
    "y_data = y_data.iloc[:,1:]\n",
    "'''\n",
    "data_un = pd.read_csv('train_data.csv', sep = ',')\n",
    "\n",
    "#need to check exactly how these are loaded.\n",
    "x_data_uf = data_un.iloc[:,2:36]\n",
    "y_data = data_un.claim_amount"
   ],
   "metadata": {
    "collapsed": false,
    "pycharm": {
     "name": "#%%\n",
     "is_executing": false
    }
   }
  },
  {
   "cell_type": "code",
   "execution_count": 16,
   "outputs": [],
   "source": [
    "cat_to_int_dict = {'pol_coverage': {'Mini':0, 'Median1':1, 'Median2':2, 'Maxi':3},\n",
    "                           'pol_pay_freq': {'Monthly':0, 'Quarterly':1, 'Biannual':2, 'Yearly':3},\n",
    "                           'pol_payd': {'No':0, 'Yes':1},\n",
    "                           'pol_usage': {'Retired':0, 'WorkPrivate':1, 'Professional':2, 'AllTrips':3},\n",
    "                           'drv_drv2': {'No':0, 'Yes':1},\n",
    "                           'drv_sex1': {'F':0, 'M':1},\n",
    "                           'drv_sex2': {'F':-1, 'M':1, None:0},\n",
    "                           'vh_type': {'Tourism':0, 'Commercial':1,}\n",
    "                           }\n",
    "\n",
    "def car_make_categories(car_make):\n",
    "    if car_make in ['RENAULT','RENAULT','PEUGEOT','CITROEN','VOLKSWAGEN','FORD']:\n",
    "        return car_make\n",
    "    else:\n",
    "        return 'OTHER'\n",
    "    \n",
    "def missing_geo_data(x):\n",
    "    if x:\n",
    "        return 1\n",
    "    else:\n",
    "        return 0\n",
    "\n",
    "\n",
    "def zero_vh_weight(weight, avg_weight):\n",
    "    if weight<100:\n",
    "        return avg_weight\n",
    "    else:\n",
    "        return weight\n",
    "\n",
    "x_data_f = x_data_uf.replace(cat_to_int_dict, inplace=False)\n",
    "x_data_f.vh_make = x_data_uf['vh_make'].apply(lambda x: car_make_categories(x))\n",
    "\n",
    "avg_vh_weight = x_data_uf['vh_weight'].mean()\n",
    "x_data_f.vh_weight = x_data_uf['vh_weight'].apply(lambda x: zero_vh_weight(x, avg_vh_weight))\n",
    "\n",
    "vh_make_cols = pd.get_dummies(x_data_f.vh_make)\n",
    "vh_fuel_cols= pd.get_dummies(x_data_f.vh_fuel)\n",
    "city_dist_cols= pd.get_dummies(x_data_f.city_district_code)\n",
    "\n",
    "geo_na_col = (x_data_f['population'].isnull()).apply(lambda x: missing_geo_data(x))\n",
    "\n",
    "#need to change means so not dependent on training data\n",
    "MEANS = x_data_uf.mean()\n",
    "x_data_f = x_data_f.fillna(MEANS)\n",
    "\n",
    "\n",
    "cols_to_drop = ['pol_insee_code', 'vh_model', 'regional_department_code', 'commune_code', \n",
    "                'canton_code', 'vh_make', 'city_district_code', 'vh_fuel']\n",
    "x_data_f = x_data_f.drop(cols_to_drop, axis = 1)\n",
    "\n",
    "\n",
    "#replace vh_make with indicators\n",
    "x_data_f = pd.concat([x_data_f, vh_make_cols, vh_fuel_cols, city_dist_cols], axis=1, sort=False)\n",
    "\n",
    "\n",
    "x_norm_temp = x_data_f.values #returns a numpy array\n",
    "min_max_scaler = preprocessing.MinMaxScaler()\n",
    "x_scaled = min_max_scaler.fit_transform(x_norm_temp)\n",
    "x_norm_temp = pd.DataFrame(x_scaled)\n",
    "\n",
    "x_data = x_norm_temp"
   ],
   "metadata": {
    "collapsed": false,
    "pycharm": {
     "name": "#%%\n",
     "is_executing": false
    }
   }
  },
  {
   "cell_type": "code",
   "execution_count": 17,
   "outputs": [
    {
     "data": {
      "text/plain": "pol_bonus             float64\npol_coverage            int64\npol_duration            int64\npol_sit_duration        int64\npol_pay_freq            int64\npol_payd                int64\npol_usage               int64\ndrv_drv2                int64\ndrv_age1                int64\ndrv_age2                int64\ndrv_sex1                int64\ndrv_sex2                int64\ndrv_age_lic1            int64\ndrv_age_lic2            int64\nvh_age                  int64\nvh_cyl                  int64\nvh_din                  int64\nvh_sale_begin           int64\nvh_sale_end             int64\nvh_speed                int64\nvh_type                 int64\nvh_value                int64\nvh_weight             float64\ntown_mean_altitude    float64\ntown_surface_area     float64\npopulation            float64\nCITROEN                 uint8\nFORD                    uint8\nOTHER                   uint8\nPEUGEOT                 uint8\nRENAULT                 uint8\nVOLKSWAGEN              uint8\nDiesel                  uint8\nGasoline                uint8\nHybrid                  uint8\n1.0                     uint8\n2.0                     uint8\n3.0                     uint8\n4.0                     uint8\n5.0                     uint8\n6.0                     uint8\n7.0                     uint8\n8.0                     uint8\n9.0                     uint8\ndtype: object"
     },
     "metadata": {},
     "output_type": "execute_result",
     "execution_count": 17
    }
   ],
   "source": [
    "x_data_f.dtypes"
   ],
   "metadata": {
    "collapsed": false,
    "pycharm": {
     "name": "#%%\n",
     "is_executing": false
    }
   }
  },
  {
   "cell_type": "code",
   "execution_count": 20,
   "outputs": [
    {
     "data": {
      "text/plain": "<matplotlib.axes._subplots.AxesSubplot at 0x7ff91fcfce80>"
     },
     "metadata": {},
     "output_type": "execute_result",
     "execution_count": 20
    },
    {
     "data": {
      "text/plain": "<Figure size 1440x720 with 1 Axes>",
      "image/png": "[encoded data removed]"
     },
     "metadata": {
      "needs_background": "light"
     },
     "output_type": "display_data"
    }
   ],
   "source": [
    "x_data.iloc[:,15:25].corrwith(y_data).plot.bar(\n",
    "        figsize = (20, 10), title = \"Correlation with class\", fontsize = 15,\n",
    "        rot = 45, grid = True)"
   ],
   "metadata": {
    "collapsed": false,
    "pycharm": {
     "name": "#%%\n",
     "is_executing": false
    }
   }
  },
  {
   "cell_type": "code",
   "execution_count": null,
   "outputs": [],
   "source": [
    "#NOW TO BUILD THE NEURAL NETWORK\n",
    "def build_model():\n",
    "  model = keras.Sequential([\n",
    "    layers.Dense(64, activation='relu', input_shape=[len(train_dataset.keys())]),\n",
    "    layers.Dense(64, activation='relu'),\n",
    "    layers.Dense(1)\n",
    "  ])\n",
    "\n",
    "  optimizer = tf.keras.optimizers.RMSprop(0.001)\n",
    "\n",
    "  model.compile(loss='mse',\n",
    "                optimizer=optimizer,\n",
    "                metrics=['mae', 'mse'])\n",
    "  return model"
   ],
   "metadata": {
    "collapsed": false,
    "pycharm": {
     "name": "#%%\n"
    }
   }
  },
  {
   "cell_type": "code",
   "execution_count": null,
   "outputs": [],
   "source": [],
   "metadata": {
    "collapsed": false,
    "pycharm": {
     "name": "#%%\n"
    }
   }
  },
  {
   "cell_type": "code",
   "execution_count": null,
   "outputs": [],
   "source": [],
   "metadata": {
    "collapsed": false,
    "pycharm": {
     "name": "#%%\n"
    }
   }
  },
  {
   "cell_type": "code",
   "execution_count": null,
   "outputs": [],
   "source": [],
   "metadata": {
    "collapsed": false,
    "pycharm": {
     "name": "#%%#%%\n"
    }
   }
  },
  {
   "cell_type": "code",
   "execution_count": null,
   "outputs": [],
   "source": [],
   "metadata": {
    "collapsed": false,
    "pycharm": {
     "name": "#%%\n"
    }
   }
  },
  {
   "cell_type": "code",
   "execution_count": null,
   "outputs": [],
   "source": [],
   "metadata": {
    "collapsed": false,
    "pycharm": {
     "name": "#%%\n"
    }
   }
  },
  {
   "cell_type": "code",
   "execution_count": null,
   "outputs": [],
   "source": [
    "\n",
    "\n"
   ],
   "metadata": {
    "collapsed": false,
    "pycharm": {
     "name": "#%%\n"
    }
   }
  }
 ],
 "metadata": {
  "kernelspec": {
   "display_name": "Python 3",
   "language": "python",
   "name": "python3"
  },
  "language_info": {
   "codemirror_mode": {
    "name": "ipython",
    "version": 2
   },
   "file_extension": ".py",
   "mimetype": "text/x-python",
   "name": "python",
   "nbconvert_exporter": "python",
   "pygments_lexer": "ipython2",
   "version": "2.7.6"
  },
  "pycharm": {
   "stem_cell": {
    "cell_type": "raw",
    "source": [],
    "metadata": {
     "collapsed": false
    }
   }
  }
 },
 "nbformat": 4,
 "nbformat_minor": 0
}